{
 "cells": [
  {
   "cell_type": "markdown",
   "metadata": {},
   "source": [
    "# Variational autoencoders\n",
    "\n",
    "This notebook walks you through implementing a variational autoencoder (VAE) for the MNIST dataset with a normalizing flow as prior."
   ]
  },
  {
   "cell_type": "code",
   "execution_count": 1,
   "metadata": {},
   "outputs": [],
   "source": [
    "import torch\n",
    "import torch.nn as nn\n",
    "import torch.utils.data as data\n",
    "import zuko\n",
    "\n",
    "from torch import Tensor\n",
    "from torch.distributions import Bernoulli, Distribution, Independent, Normal\n",
    "from torchvision.datasets import MNIST\n",
    "from torchvision.transforms.functional import to_pil_image, to_tensor\n",
    "from tqdm import tqdm"
   ]
  },
  {
   "cell_type": "markdown",
   "metadata": {},
   "source": [
    "## Data\n",
    "\n",
    "The [MNIST](https://wikipedia.org/wiki/MNIST_database) dataset consists of 28 x 28 grayscale images representing handwritten digits (0 to 9)."
   ]
  },
  {
   "cell_type": "code",
   "execution_count": 2,
   "metadata": {},
   "outputs": [],
   "source": [
    "trainset = MNIST(root='', download=True, train=True, transform=to_tensor)\n",
    "trainloader = data.DataLoader(trainset, batch_size=256, shuffle=True)"
   ]
  },
  {
   "cell_type": "code",
   "execution_count": 3,
   "metadata": {},
   "outputs": [
    {
     "data": {
      "image/png": "[encoded data removed]",
      "text/plain": [
       "<PIL.Image.Image image mode=L size=448x28>"
      ]
     },
     "execution_count": 3,
     "metadata": {},
     "output_type": "execute_result"
    }
   ],
   "source": [
    "x = [trainset[i][0] for i in range(16)]\n",
    "x = torch.cat(x, dim=-1)\n",
    "\n",
    "to_pil_image(x)"
   ]
  },
  {
   "cell_type": "markdown",
   "metadata": {},
   "source": [
    "## Evidence lower bound\n",
    "\n",
    "As usual with variational inference, we wish to find the parameters $\\phi$ for which a model $p_\\phi(x)$ is most similar to a target distribution $p(x)$, which leads to the objective\n",
    "\n",
    "$$ \\arg \\max_\\phi \\mathbb{E}_{p(x)} \\big[ \\log p_\\phi(x) \\big] $$\n",
    "\n",
    "However, variational autoencoders have latent random variables $z$ and model the joint distribution of $z$ and $x$ as a factorization\n",
    "\n",
    "$$ p_\\phi(x, z) = p_\\phi(x | z) \\, p_\\phi(z) $$\n",
    "\n",
    "where $p_\\phi(x | z)$ is the decoder (sometimes called likelihood) and $p_\\phi(z)$ the prior. In this case, maximizing the log-evidence $\\log p_\\phi(x)$ becomes an issue as the integral\n",
    "\n",
    "$$ p_\\phi(x) = \\int p_\\phi(z, x) \\, \\mathrm{d}z $$\n",
    "\n",
    "is often intractable, not to mention its gradients. To solve this issue, VAEs introduce an encoder $q_\\psi(z | x)$ (sometimes called proposal or guide) to define a lower bound for the evidence (ELBO) for which unbiased Monte Carlo estimates of the gradients are available.\n",
    "\n",
    "$$\n",
    "\\begin{align}\n",
    "    \\log p_\\phi(x) & \\geq \\log p_\\phi(x) - \\mathrm{KL} \\big( q_\\psi(z | x) \\, || \\, p_\\phi(z | x) \\big) \\\\\n",
    "    & \\geq \\log p_\\phi(x) + \\mathbb{E}_{q_\\psi(z | x)} \\left[ \\log \\frac{p_\\phi(z | x)}{q_\\psi(z | x)} \\right] \\\\\n",
    "    & \\geq \\mathbb{E}_{q_\\psi(z | x)} \\left[ \\log \\frac{p_\\phi(z, x)}{q_\\psi(z | x)} \\right] = \\mathrm{ELBO}(x, \\phi, \\psi)\n",
    "\\end{align}\n",
    "$$\n",
    "\n",
    "Importantly, if $p_\\phi(x, z)$ and $q_\\psi(z | x)$ are expressive enough, the bound can become tight and maximizing the ELBO for $\\phi$ and $\\psi$ will lead to the same model as maximizing the log-evidence."
   ]
  },
  {
   "cell_type": "code",
   "execution_count": 4,
   "metadata": {},
   "outputs": [],
   "source": [
    "class ELBO(nn.Module):\n",
    "    def __init__(\n",
    "        self,\n",
    "        encoder: zuko.flows.LazyDistribution,\n",
    "        decoder: zuko.flows.LazyDistribution,\n",
    "        prior: zuko.flows.LazyDistribution,\n",
    "    ):\n",
    "        super().__init__()\n",
    "\n",
    "        self.encoder = encoder\n",
    "        self.decoder = decoder\n",
    "        self.prior = prior\n",
    "\n",
    "    def forward(self, x: Tensor) -> Tensor:\n",
    "        q = self.encoder(x)\n",
    "        z = q.rsample()\n",
    "\n",
    "        return self.decoder(z).log_prob(x) + self.prior().log_prob(z) - q.log_prob(z)"
   ]
  },
  {
   "cell_type": "markdown",
   "metadata": {},
   "source": [
    "## Model\n",
    "\n",
    "We choose a (diagonal) Gaussian model as encoder, a Bernoulli model as decoder, and a [Masked Autoregressive Flow](https://arxiv.org/abs/1705.07057) (MAF) as prior. We use 16 features for the latent space."
   ]
  },
  {
   "cell_type": "code",
   "execution_count": 5,
   "metadata": {},
   "outputs": [],
   "source": [
    "class GaussianModel(zuko.flows.LazyDistribution):\n",
    "    def __init__(self, features: int, context: int):\n",
    "        super().__init__()\n",
    "\n",
    "        self.hyper = nn.Sequential(\n",
    "            nn.Linear(context, 1024),\n",
    "            nn.ReLU(),\n",
    "            nn.Linear(1024, 1024),\n",
    "            nn.ReLU(),\n",
    "            nn.Linear(1024, 2 * features),\n",
    "        )\n",
    "\n",
    "    def forward(self, c: Tensor) -> Distribution:\n",
    "        phi = self.hyper(c)\n",
    "        mu, log_sigma = phi.chunk(2, dim=-1)\n",
    "\n",
    "        return Independent(Normal(mu, log_sigma.exp()), 1)\n",
    "\n",
    "\n",
    "class BernoulliModel(zuko.flows.LazyDistribution):\n",
    "    def __init__(self, features: int, context: int):\n",
    "        super().__init__()\n",
    "\n",
    "        self.hyper = nn.Sequential(\n",
    "            nn.Linear(context, 1024),\n",
    "            nn.ReLU(),\n",
    "            nn.Linear(1024, 1024),\n",
    "            nn.ReLU(),\n",
    "            nn.Linear(1024, features),\n",
    "        )\n",
    "\n",
    "    def forward(self, c: Tensor) -> Distribution:\n",
    "        phi = self.hyper(c)\n",
    "        rho = torch.sigmoid(phi)\n",
    "\n",
    "        return Independent(Bernoulli(rho), 1)"
   ]
  },
  {
   "cell_type": "code",
   "execution_count": 6,
   "metadata": {},
   "outputs": [],
   "source": [
    "encoder = GaussianModel(16, 784)\n",
    "decoder = BernoulliModel(784, 16)\n",
    "\n",
    "prior = zuko.flows.MAF(\n",
    "    features=16,\n",
    "    transforms=3,\n",
    "    hidden_features=(256, 256),\n",
    ")"
   ]
  },
  {
   "cell_type": "markdown",
   "metadata": {},
   "source": [
    "Note that because the decoder is a Bernoulli model, the data $x$ should be binary."
   ]
  },
  {
   "cell_type": "markdown",
   "metadata": {},
   "source": [
    "## Training\n",
    "\n",
    "As explained earlier, our objective is to maximize the ELBO for all $x$.\n",
    "\n",
    "$$\n",
    "\\arg \\max_{\\phi, \\, \\psi} \\mathbb{E}_{p(x)} \\big[ \\text{ELBO}(x, \\phi, \\psi) \\big]\n",
    "$$"
   ]
  },
  {
   "cell_type": "code",
   "execution_count": 7,
   "metadata": {},
   "outputs": [
    {
     "name": "stderr",
     "output_type": "stream",
     "text": [
      "100%|██████████| 64/64 [07:09<00:00,  6.71s/it, loss=65.8]\n"
     ]
    }
   ],
   "source": [
    "elbo = ELBO(encoder, decoder, prior).cuda()\n",
    "optimizer = torch.optim.Adam(elbo.parameters(), lr=1e-3)\n",
    "\n",
    "for epoch in (bar := tqdm(range(64))):\n",
    "    losses = []\n",
    "\n",
    "    for x, _ in trainloader:\n",
    "        x = x.round().flatten(-3).cuda()\n",
    "\n",
    "        loss = -elbo(x).mean()\n",
    "        loss.backward()\n",
    "\n",
    "        optimizer.step()\n",
    "        optimizer.zero_grad()\n",
    "\n",
    "        losses.append(loss.detach())\n",
    "\n",
    "    losses = torch.stack(losses)\n",
    "\n",
    "    bar.set_postfix(loss=losses.mean().item())"
   ]
  },
  {
   "cell_type": "markdown",
   "metadata": {},
   "source": [
    "After training, we can generate MNIST images by sampling latent variables from the prior and decoding them."
   ]
  },
  {
   "cell_type": "code",
   "execution_count": 8,
   "metadata": {},
   "outputs": [
    {
     "data": {
      "image/png": "[encoded data removed]",
      "text/plain": [
       "<PIL.Image.Image image mode=L size=448x28>"
      ]
     },
     "execution_count": 8,
     "metadata": {},
     "output_type": "execute_result"
    }
   ],
   "source": [
    "z = prior().sample((16,))\n",
    "x = decoder(z).mean.reshape(-1, 28, 28)\n",
    "\n",
    "to_pil_image(x.movedim(0, 1).reshape(28, -1))"
   ]
  }
 ],
 "metadata": {
  "kernelspec": {
   "display_name": "zuko",
   "language": "python",
   "name": "zuko"
  },
  "language_info": {
   "codemirror_mode": {
    "name": "ipython",
    "version": 3
   },
   "file_extension": ".py",
   "mimetype": "text/x-python",
   "name": "python",
   "nbconvert_exporter": "python",
   "pygments_lexer": "ipython3",
   "version": "3.9.18"
  }
 },
 "nbformat": 4,
 "nbformat_minor": 5
}
